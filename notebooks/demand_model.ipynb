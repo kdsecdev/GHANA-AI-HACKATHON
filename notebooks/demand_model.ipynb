{
 "cells": [
  {
   "cell_type": "markdown",
   "id": "4914fa62",
   "metadata": {},
   "source": [
    "# 🚍 Refactored Demand Prediction Notebook\n",
    "This notebook is optimized for passenger demand prediction using GTFS-derived features.\n",
    "It uses `synthetic_demand.csv` generated from the GTFS `simulate_demand.py` pipeline."
   ]
  },
  {
   "cell_type": "code",
   "execution_count": null,
   "id": "8554de5a",
   "metadata": {},
   "outputs": [],
   "source": [
    "# Install required libraries (uncomment if needed)\n",
    "# %pip install pandas scikit-learn joblib matplotlib seaborn\n"
   ]
  },
  {
   "cell_type": "code",
   "execution_count": null,
   "id": "9e21b4e9",
   "metadata": {},
   "outputs": [],
   "source": [
    "# Imports\n",
    "import pandas as pd\n",
    "import numpy as np\n",
    "import matplotlib.pyplot as plt\n",
    "import seaborn as sns\n",
    "from sklearn.model_selection import train_test_split\n",
    "from sklearn.ensemble import RandomForestRegressor\n",
    "from sklearn.metrics import mean_absolute_error, mean_squared_error\n",
    "import joblib\n",
    "\n",
    "# Seed for reproducibility\n",
    "SEED = 42\n",
    "np.random.seed(SEED)\n"
   ]
  },
  {
   "cell_type": "markdown",
   "id": "bd417073",
   "metadata": {},
   "source": [
    "## 1. Load Synthetic Demand Data"
   ]
  },
  {
   "cell_type": "code",
   "execution_count": null,
   "id": "657206ec",
   "metadata": {},
   "outputs": [],
   "source": [
    "# Load the dataset\n",
    "data_path = '../data/synthetic_demand.csv'\n",
    "df = pd.read_csv(data_path)\n",
    "df.head()\n"
   ]
  },
  {
   "cell_type": "markdown",
   "id": "ca3f3e6f",
   "metadata": {},
   "source": [
    "## 2. Preprocessing\n",
    "Convert categorical features and prepare input/output."
   ]
  },
  {
   "cell_type": "code",
   "execution_count": null,
   "id": "75644058",
   "metadata": {},
   "outputs": [],
   "source": [
    "# One-hot encode categorical features\n",
    "X = df[['route_id', 'stop_id', 'hour', 'weekday']]\n",
    "y = df['passenger_count']\n",
    "\n",
    "X_encoded = pd.get_dummies(X, columns=['route_id', 'stop_id'])\n",
    "X_encoded.head()\n"
   ]
  },
  {
   "cell_type": "markdown",
   "id": "28f5f0e2",
   "metadata": {},
   "source": [
    "## 3. Train/Test Split"
   ]
  },
  {
   "cell_type": "code",
   "execution_count": null,
   "id": "8ec1320b",
   "metadata": {},
   "outputs": [],
   "source": [
    "X_train, X_test, y_train, y_test = train_test_split(\n",
    "    X_encoded, y, test_size=0.2, random_state=SEED\n",
    ")\n"
   ]
  },
  {
   "cell_type": "markdown",
   "id": "ef48a7cf",
   "metadata": {},
   "source": [
    "## 4. Train Random Forest Model"
   ]
  },
  {
   "cell_type": "code",
   "execution_count": null,
   "id": "a0ff87a1",
   "metadata": {},
   "outputs": [],
   "source": [
    "model = RandomForestRegressor(n_estimators=200, max_depth=12, random_state=SEED)\n",
    "model.fit(X_train, y_train)\n"
   ]
  },
  {
   "cell_type": "markdown",
   "id": "dcafdf8d",
   "metadata": {},
   "source": [
    "## 5. Evaluate Model Performance"
   ]
  },
  {
   "cell_type": "code",
   "execution_count": null,
   "id": "8040af37",
   "metadata": {},
   "outputs": [],
   "source": [
    "y_pred = model.predict(X_test)\n",
    "mae = mean_absolute_error(y_test, y_pred)\n",
    "rmse = mean_squared_error(y_test, y_pred, squared=False)\n",
    "\n",
    "print(f\"MAE: {mae:.2f}\")\n",
    "print(f\"RMSE: {rmse:.2f}\")\n"
   ]
  },
  {
   "cell_type": "markdown",
   "id": "c822f547",
   "metadata": {},
   "source": [
    "## 6. Save Trained Model"
   ]
  },
  {
   "cell_type": "code",
   "execution_count": null,
   "id": "c54b024b",
   "metadata": {},
   "outputs": [],
   "source": [
    "joblib.dump(model, '../models/demand_model.pkl')\n",
    "print(\"✅ Model saved to ../models/demand_model.pkl\")\n"
   ]
  },
  {
   "cell_type": "markdown",
   "id": "d442e886",
   "metadata": {},
   "source": [
    "## 7. Feature Importance (Optional Insight)"
   ]
  },
  {
   "cell_type": "code",
   "execution_count": null,
   "id": "fbd90bc1",
   "metadata": {},
   "outputs": [],
   "source": [
    "importances = model.feature_importances_\n",
    "feat_names = X_encoded.columns\n",
    "feat_imp_df = pd.DataFrame({'Feature': feat_names, 'Importance': importances})\n",
    "feat_imp_df.sort_values(by='Importance', ascending=False).head(10)\n"
   ]
  },
  {
   "cell_type": "code",
   "execution_count": null,
   "id": "8abd7459",
   "metadata": {},
   "outputs": [],
   "source": [
    "# Visualize top 10 features\n",
    "top_features = feat_imp_df.sort_values(by='Importance', ascending=False).head(10)\n",
    "sns.barplot(x='Importance', y='Feature', data=top_features)\n",
    "plt.title(\"Top 10 Feature Importances\")\n",
    "plt.tight_layout()\n",
    "plt.show()\n"
   ]
  }
 ],
 "metadata": {},
 "nbformat": 4,
 "nbformat_minor": 5
}
